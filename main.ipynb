{
 "cells": [
  {
   "cell_type": "code",
   "execution_count": null,
   "id": "2316161b-0cd1-4224-92bf-55c5bc6edd47",
   "metadata": {
    "tags": []
   },
   "outputs": [],
   "source": [
    "import sys\n",
    "\n",
    "sys.path.append(\"lib/\")\n",
    "\n",
    "import os\n",
    "import glob\n",
    "import json\n",
    "import jsonpickle\n",
    "\n",
    "import TFilter as f\n",
    "import TEventFilter as ef\n",
    "from TDataType import TDataType as tdt\n",
    "from TWeatherType import TWeatherType as twt\n",
    "from TWeekDay import TWeekDay as twd\n",
    "from TMap import TMap\n",
    "from TPlotter import TPlotter\n",
    "from TReader import TReader"
   ]
  },
  {
   "cell_type": "code",
   "execution_count": null,
   "id": "5ea5dbca-0d1c-4cf0-bfe6-ac177855684e",
   "metadata": {
    "collapsed": true,
    "jupyter": {
     "outputs_hidden": true
    },
    "metadata": {},
    "tags": []
   },
   "outputs": [],
   "source": [
    "# load data\n",
    "filepaths = glob.glob(os.path.join(\"../../../DP/filtered/\", \"*.csv\"))\n",
    "zones_file = \"data/zones.json\"\n",
    " \n",
    "LIMIT = 0  # number or 0 for no limit\n",
    "\n",
    "reader = TReader(filepaths)\n",
    "\n",
    "# Load TDFs\n",
    "ltdfs = reader.read(LIMIT)\n",
    "\n",
    "print(f\"Loaded:\\t{len(ltdfs)}\")"
   ]
  },
  {
   "cell_type": "code",
   "execution_count": null,
   "id": "149faac7-720f-48bd-a92b-72c16d96a7b8",
   "metadata": {
    "metadata": {},
    "tags": []
   },
   "outputs": [],
   "source": [
    "# settings\n",
    "T_Line = (\"*\", \"*\", \"*\")\n",
    "T_Date = (\"01.10.2022\", \"02.10.2022\")\n",
    "T_Time = (\"00:00:00\", \"23:59:59\")\n",
    "T_Vehicle = \"7525\"\n",
    "\n",
    "T_Data_type = tdt.ALL\n",
    "T_Weather_type = twt.ALL\n",
    "T_Week_day = twd.ALL\n",
    "\n",
    "T_Map_events = True\n",
    "T_Plot_events = False\n",
    "\n",
    "T_Events_filter = True\n",
    "T_Events_stop = True\n",
    "T_Events_zero = True\n",
    "T_Events_diff = 20\n",
    "\n",
    "# depos zones\n",
    "with open(zones_file, \"r\") as file:\n",
    "    filter_zones = json.load(file)\n",
    "\n",
    "# filter all ltdfs and data\n",
    "data = f.filter_tdfs(ltdfs, T_Line, T_Date, T_Week_day, T_Vehicle)\n",
    "print(f\"TDFs:\\t\\t{len(data)}\")\n",
    "\n",
    "for d in data:\n",
    "    d.filter_rows(T_Data_type)\n",
    "    d.filter_zones(filter_zones)\n",
    "\n",
    "# detect and filter events\n",
    "events = ef.detect_events(data)\n",
    "print(f\"All events:\\t{len(events)}\")\n",
    "\n",
    "events = ef.filter_time(events, T_Time)\n",
    "print(f\"In time:\\t{len(events)}\")\n",
    "\n",
    "if T_Weather_type != T_Weather_type.ALL:\n",
    "    events = ef.filter_weather(events, T_Weather_type)\n",
    "print(f\"In weather:\\t{len(events)}\")\n",
    "\n",
    "if T_Events_filter:\n",
    "    if T_Events_diff:\n",
    "        events = ef.filter_diff(events, T_Events_diff)\n",
    "    if T_Events_zero:\n",
    "        events = ef.filter_zero(events)\n",
    "    if T_Events_stop:\n",
    "        events = ef.filter_embs(events)\n",
    "    print(f\"Filtered:\\t{len(events)}\")"
   ]
  },
  {
   "cell_type": "code",
   "execution_count": null,
   "id": "721cc5c1-0b02-44ff-b571-f8a0349b589a",
   "metadata": {
    "metadata": {},
    "tags": []
   },
   "outputs": [],
   "source": [
    "m = TMap([48.1700, 17.1077], 13)\n",
    "\n",
    "m.add_filter_zones(filter_zones)\n",
    "\n",
    "# plot into map\n",
    "if T_Map_events:\n",
    "    m.add_events(events)\n",
    "else:\n",
    "    m.add_data(data)\n",
    "\n",
    "m.save(False)\n",
    "m.save_png()\n",
    "\n",
    "print(m.n)\n",
    "m.m"
   ]
  },
  {
   "cell_type": "code",
   "execution_count": null,
   "id": "8f88fb35-52b8-480d-b84e-3212c79d847b",
   "metadata": {
    "metadata": {},
    "tags": []
   },
   "outputs": [],
   "source": [
    "p = TPlotter(events)\n",
    "\n",
    "if T_Plot_events:\n",
    "    p.plot()\n",
    "    p.save()"
   ]
  },
  {
   "cell_type": "code",
   "execution_count": null,
   "id": "085a6629",
   "metadata": {},
   "outputs": [],
   "source": [
    "# Serialize event objects\n",
    "json_data = jsonpickle.encode(events, unpicklable=False, indent=4)\n",
    "\n",
    "# Write JSON data to a file\n",
    "with open(\"data/output.json\", \"w\") as json_file:\n",
    "    json_file.write(json_data)\n",
    "\n",
    "# write event csv\n",
    "import pandas\n",
    "data_dicts = [obj.__dict__ for obj in events]\n",
    "edf = pandas.DataFrame(data_dicts).drop(columns=[\"points\"])\n",
    "edf.to_csv(\"data/events.csv\")"
   ]
  }
 ],
 "metadata": {
  "kernelspec": {
   "display_name": "Python 3 (ipykernel)",
   "language": "python",
   "name": "python3"
  },
  "language_info": {
   "codemirror_mode": {
    "name": "ipython",
    "version": 3
   },
   "file_extension": ".py",
   "mimetype": "text/x-python",
   "name": "python",
   "nbconvert_exporter": "python",
   "pygments_lexer": "ipython3",
   "version": "3.11.8"
  }
 },
 "nbformat": 4,
 "nbformat_minor": 5
}
