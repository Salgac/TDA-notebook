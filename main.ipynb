{
 "cells": [
  {
   "cell_type": "code",
   "execution_count": null,
   "id": "2316161b-0cd1-4224-92bf-55c5bc6edd47",
   "metadata": {
    "tags": []
   },
   "outputs": [],
   "source": [
    "import sys\n",
    "\n",
    "sys.path.append(\"lib/\")\n",
    "\n",
    "import os\n",
    "import glob\n",
    "import json\n",
    "import jsonpickle\n",
    "\n",
    "import TFilter as f\n",
    "import TEventFilter as ef\n",
    "from TDataType import TDataType as tdt\n",
    "from TMap import TMap\n",
    "from TPlotter import TPlotter\n",
    "from TReader import TReader"
   ]
  },
  {
   "cell_type": "code",
   "execution_count": null,
   "id": "5ea5dbca-0d1c-4cf0-bfe6-ac177855684e",
   "metadata": {
    "collapsed": true,
    "jupyter": {
     "outputs_hidden": true
    },
    "metadata": {},
    "tags": []
   },
   "outputs": [],
   "source": [
    "# load data\n",
    "filepaths = glob.glob(os.path.join(\"../../../DP/filtered/\", \"*.csv\"))\n",
    "zones_file = \"data/zones.json\"\n",
    "\n",
    "LIMIT = 0  # number or 0 for no limit\n",
    "\n",
    "reader = TReader(filepaths)\n",
    "\n",
    "# Load TDFs\n",
    "ltdfs = reader.read(LIMIT)\n",
    "\n",
    "len(ltdfs)"
   ]
  },
  {
   "cell_type": "code",
   "execution_count": null,
   "id": "149faac7-720f-48bd-a92b-72c16d96a7b8",
   "metadata": {
    "metadata": {},
    "tags": []
   },
   "outputs": [],
   "source": [
    "# settings\n",
    "T_Line = (\"*\", \"*\", \"*\")\n",
    "T_Date = (\"01.10.2022\", \"31.10.2022\")\n",
    "T_Time = (\"00:00:00\", \"23:59:59\")\n",
    "T_Vehicle = \"*\"\n",
    "\n",
    "T_Data_type = tdt.EMB_2\n",
    "\n",
    "T_Map_events = True\n",
    "T_Plot_events = False\n",
    "\n",
    "T_Events_stop = True\n",
    "T_Events_zero = True\n",
    "T_Events_diff = 20\n",
    "\n",
    "# depos zones\n",
    "with open(zones_file, \"r\") as file:\n",
    "    filter_zones = json.load(file)\n",
    "\n",
    "\n",
    "# filter all ltdfs and data\n",
    "data = f.filter_tdfs(ltdfs, T_Line, T_Date, T_Vehicle)\n",
    "print(len(data))\n",
    "\n",
    "for d in data:\n",
    "    d.filter_rows(T_Data_type, T_Time)\n",
    "    d.filter_zones(filter_zones)\n",
    "\n",
    "# detect and filter events\n",
    "events = ef.detect_events(data)\n",
    "print(len(events))\n",
    "\n",
    "if T_Events_diff:\n",
    "    events = ef.filter_diff(events, T_Events_diff)\n",
    "if T_Events_zero:\n",
    "    events = ef.filter_zero(events)\n",
    "if T_Events_stop:\n",
    "    events = ef.filter_embs(events)\n",
    "\n",
    "print(len(events))"
   ]
  },
  {
   "cell_type": "code",
   "execution_count": null,
   "id": "721cc5c1-0b02-44ff-b571-f8a0349b589a",
   "metadata": {
    "metadata": {},
    "tags": []
   },
   "outputs": [],
   "source": [
    "m = TMap([48.1700, 17.1077], 13)\n",
    "\n",
    "m.add_filter_zones(filter_zones)\n",
    "\n",
    "# plot into map\n",
    "if T_Map_events:\n",
    "    m.add_events(events)\n",
    "else:\n",
    "    m.add_data(data)\n",
    "\n",
    "m.save(False)\n",
    "m.save_png()\n",
    "\n",
    "print(m.n)\n",
    "m.m"
   ]
  },
  {
   "cell_type": "code",
   "execution_count": null,
   "id": "8f88fb35-52b8-480d-b84e-3212c79d847b",
   "metadata": {
    "metadata": {},
    "tags": []
   },
   "outputs": [],
   "source": [
    "from TPlotter import TPlotter\n",
    "\n",
    "if not T_Plot_events:\n",
    "    p = TPlotter(events)\n",
    "\n",
    "    p.plot()\n",
    "\n",
    "    p.save()"
   ]
  },
  {
   "cell_type": "code",
   "execution_count": null,
   "id": "085a6629",
   "metadata": {},
   "outputs": [],
   "source": [
    "# Serialize event objects\n",
    "json_data = jsonpickle.encode(events, unpicklable=False, indent=4)\n",
    "\n",
    "# Write JSON data to a file\n",
    "with open(\"data/output.json\", \"w\") as json_file:\n",
    "    json_file.write(json_data)"
   ]
  },
  {
   "cell_type": "code",
   "execution_count": null,
   "id": "7772213b",
   "metadata": {},
   "outputs": [],
   "source": [
    "# co dalej?\n",
    "#\n",
    "# asi by sa hodilo, aby sme vedeli odlisit tie miesta brzdenia, ktore su naozaj na tom mieste na ktorom sa stali, nie na doplnenom\n",
    "# Folium plugin HeatMapWithTime ?\n",
    "# skusit polohu brzdeni interpolovat a nie len doplnovat? - stale nevyriesi problem ze su tie brzdenia vsade\n",
    "#\n",
    "\n",
    "# zastavenia z malej rychlosti\n",
    "# histogramy liniek/casu podla zvonenia\n",
    "# rozbit to potom na dni a porovnat s pocasim + sklz/smyk\n",
    "\n",
    "# do papiera - ako som spracoval data, co som mergoval, cela pipeline az po dataset s ktorym sa hram\n",
    "# finalna struktura dat s ktorymi pracujeme\n",
    "# briefly jupiter ako pseudokod?\n",
    "#"
   ]
  }
 ],
 "metadata": {
  "kernelspec": {
   "display_name": "Python 3 (ipykernel)",
   "language": "python",
   "name": "python3"
  },
  "language_info": {
   "codemirror_mode": {
    "name": "ipython",
    "version": 3
   },
   "file_extension": ".py",
   "mimetype": "text/x-python",
   "name": "python",
   "nbconvert_exporter": "python",
   "pygments_lexer": "ipython3",
   "version": "3.11.8"
  }
 },
 "nbformat": 4,
 "nbformat_minor": 5
}
