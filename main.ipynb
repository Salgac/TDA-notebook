{
 "cells": [
  {
   "cell_type": "code",
   "execution_count": 1,
   "id": "2316161b-0cd1-4224-92bf-55c5bc6edd47",
   "metadata": {
    "tags": []
   },
   "outputs": [],
   "source": [
    "import sys\n",
    "\n",
    "sys.path.append(\"lib/\")\n",
    "\n",
    "import os\n",
    "import glob\n",
    "\n",
    "import TFilter as f\n",
    "import TEventFilter as ef\n",
    "from TDataType import TDataType as tdt\n",
    "from TMap import TMap\n",
    "from TReader import TReader"
   ]
  },
  {
   "cell_type": "code",
   "execution_count": 2,
   "id": "5ea5dbca-0d1c-4cf0-bfe6-ac177855684e",
   "metadata": {
    "collapsed": true,
    "jupyter": {
     "outputs_hidden": true
    },
    "tags": []
   },
   "outputs": [
    {
     "data": {
      "text/plain": [
       "20"
      ]
     },
     "execution_count": 2,
     "metadata": {},
     "output_type": "execute_result"
    }
   ],
   "source": [
    "# load data\n",
    "filepaths = glob.glob(os.path.join(\"../../../DP/filtered/\", \"*.csv\"))\n",
    "\n",
    "LIMIT = 20\n",
    "\n",
    "reader = TReader(filepaths)\n",
    "\n",
    "# Load TDFs\n",
    "ltdfs = reader.read(LIMIT)\n",
    "\n",
    "len(ltdfs)"
   ]
  },
  {
   "cell_type": "code",
   "execution_count": 3,
   "id": "149faac7-720f-48bd-a92b-72c16d96a7b8",
   "metadata": {
    "tags": []
   },
   "outputs": [
    {
     "name": "stdout",
     "output_type": "stream",
     "text": [
      "20\n",
      "1\n"
     ]
    }
   ],
   "source": [
    "# settings\n",
    "T_Line = (\"*\", \"*\", \"*\")\n",
    "T_Date = (\"01.10.2022\", \"31.10.2022\")\n",
    "T_Time = (\"00:00:00\", \"23:59:59\")\n",
    "T_Vehicle = \"*\"\n",
    "\n",
    "T_Data_type = tdt.EMB_1\n",
    "\n",
    "T_Map_events = True\n",
    "T_Events_stop = True\n",
    "T_Depo = {\"c\": (48.179637, 17.162346), \"d\": 250}\n",
    "\n",
    "\n",
    "# filter all ltdfs and data\n",
    "data = f.filter_tdfs(ltdfs, T_Line, T_Date, T_Vehicle)\n",
    "for d in data:\n",
    "    d.filter_rows(T_Data_type, T_Time)\n",
    "\n",
    "print(len(data))\n",
    "\n",
    "# detect and filter events\n",
    "events = ef.detect_events(data)\n",
    "events = ef.filter_depo(events, T_Depo)\n",
    "events = ef.filter_zero(events)\n",
    "if T_Events_stop:\n",
    "    events = ef.filter_embs(events)\n",
    "\n",
    "print(len(events))"
   ]
  },
  {
   "cell_type": "code",
   "execution_count": 4,
   "id": "721cc5c1-0b02-44ff-b571-f8a0349b589a",
   "metadata": {
    "tags": []
   },
   "outputs": [
    {
     "name": "stdout",
     "output_type": "stream",
     "text": [
      "1\n"
     ]
    },
    {
     "data": {
      "text/html": [
       "<div style=\"width:100%;\"><div style=\"position:relative;width:100%;height:0;padding-bottom:60%;\"><span style=\"color:#565656\">Make this Notebook Trusted to load map: File -> Trust Notebook</span><iframe srcdoc=\"&lt;!DOCTYPE html&gt;\n",
       "&lt;html&gt;\n",
       "&lt;head&gt;\n",
       "    \n",
       "    &lt;meta http-equiv=&quot;content-type&quot; content=&quot;text/html; charset=UTF-8&quot; /&gt;\n",
       "    \n",
       "        &lt;script&gt;\n",
       "            L_NO_TOUCH = false;\n",
       "            L_DISABLE_3D = false;\n",
       "        &lt;/script&gt;\n",
       "    \n",
       "    &lt;style&gt;html, body {width: 100%;height: 100%;margin: 0;padding: 0;}&lt;/style&gt;\n",
       "    &lt;style&gt;#map {position:absolute;top:0;bottom:0;right:0;left:0;}&lt;/style&gt;\n",
       "    &lt;script src=&quot;https://cdn.jsdelivr.net/npm/leaflet@1.9.3/dist/leaflet.js&quot;&gt;&lt;/script&gt;\n",
       "    &lt;script src=&quot;https://code.jquery.com/jquery-1.12.4.min.js&quot;&gt;&lt;/script&gt;\n",
       "    &lt;script src=&quot;https://cdn.jsdelivr.net/npm/bootstrap@5.2.2/dist/js/bootstrap.bundle.min.js&quot;&gt;&lt;/script&gt;\n",
       "    &lt;script src=&quot;https://cdnjs.cloudflare.com/ajax/libs/Leaflet.awesome-markers/2.0.2/leaflet.awesome-markers.js&quot;&gt;&lt;/script&gt;\n",
       "    &lt;link rel=&quot;stylesheet&quot; href=&quot;https://cdn.jsdelivr.net/npm/leaflet@1.9.3/dist/leaflet.css&quot;/&gt;\n",
       "    &lt;link rel=&quot;stylesheet&quot; href=&quot;https://cdn.jsdelivr.net/npm/bootstrap@5.2.2/dist/css/bootstrap.min.css&quot;/&gt;\n",
       "    &lt;link rel=&quot;stylesheet&quot; href=&quot;https://netdna.bootstrapcdn.com/bootstrap/3.0.0/css/bootstrap.min.css&quot;/&gt;\n",
       "    &lt;link rel=&quot;stylesheet&quot; href=&quot;https://cdn.jsdelivr.net/npm/@fortawesome/fontawesome-free@6.2.0/css/all.min.css&quot;/&gt;\n",
       "    &lt;link rel=&quot;stylesheet&quot; href=&quot;https://cdnjs.cloudflare.com/ajax/libs/Leaflet.awesome-markers/2.0.2/leaflet.awesome-markers.css&quot;/&gt;\n",
       "    &lt;link rel=&quot;stylesheet&quot; href=&quot;https://cdn.jsdelivr.net/gh/python-visualization/folium/folium/templates/leaflet.awesome.rotate.min.css&quot;/&gt;\n",
       "    \n",
       "            &lt;meta name=&quot;viewport&quot; content=&quot;width=device-width,\n",
       "                initial-scale=1.0, maximum-scale=1.0, user-scalable=no&quot; /&gt;\n",
       "            &lt;style&gt;\n",
       "                #map_7f77716771279c34e0d64a81b8c6d9cb {\n",
       "                    position: relative;\n",
       "                    width: 100.0%;\n",
       "                    height: 100.0%;\n",
       "                    left: 0.0%;\n",
       "                    top: 0.0%;\n",
       "                }\n",
       "                .leaflet-container { font-size: 1rem; }\n",
       "            &lt;/style&gt;\n",
       "        \n",
       "    &lt;script src=&quot;https://cdnjs.cloudflare.com/ajax/libs/leaflet.markercluster/1.1.0/leaflet.markercluster.js&quot;&gt;&lt;/script&gt;\n",
       "    &lt;link rel=&quot;stylesheet&quot; href=&quot;https://cdnjs.cloudflare.com/ajax/libs/leaflet.markercluster/1.1.0/MarkerCluster.css&quot;/&gt;\n",
       "    &lt;link rel=&quot;stylesheet&quot; href=&quot;https://cdnjs.cloudflare.com/ajax/libs/leaflet.markercluster/1.1.0/MarkerCluster.Default.css&quot;/&gt;\n",
       "    &lt;script src=&quot;https://cdn.jsdelivr.net/gh/python-visualization/folium@main/folium/templates/leaflet_heat.min.js&quot;&gt;&lt;/script&gt;\n",
       "&lt;/head&gt;\n",
       "&lt;body&gt;\n",
       "    \n",
       "    \n",
       "            &lt;div class=&quot;folium-map&quot; id=&quot;map_7f77716771279c34e0d64a81b8c6d9cb&quot; &gt;&lt;/div&gt;\n",
       "        \n",
       "&lt;/body&gt;\n",
       "&lt;script&gt;\n",
       "    \n",
       "    \n",
       "            var map_7f77716771279c34e0d64a81b8c6d9cb = L.map(\n",
       "                &quot;map_7f77716771279c34e0d64a81b8c6d9cb&quot;,\n",
       "                {\n",
       "                    center: [0, 0],\n",
       "                    crs: L.CRS.EPSG3857,\n",
       "                    zoom: 1,\n",
       "                    zoomControl: true,\n",
       "                    preferCanvas: true,\n",
       "                }\n",
       "            );\n",
       "\n",
       "            \n",
       "\n",
       "        \n",
       "    \n",
       "            var tile_layer_96f3098c4f16a26351f122d4007218e2 = L.tileLayer(\n",
       "                &quot;https://{s}.tile.openstreetmap.org/{z}/{x}/{y}.png&quot;,\n",
       "                {&quot;attribution&quot;: &quot;Data by \\u0026copy; \\u003ca target=\\&quot;_blank\\&quot; href=\\&quot;http://openstreetmap.org\\&quot;\\u003eOpenStreetMap\\u003c/a\\u003e, under \\u003ca target=\\&quot;_blank\\&quot; href=\\&quot;http://www.openstreetmap.org/copyright\\&quot;\\u003eODbL\\u003c/a\\u003e.&quot;, &quot;detectRetina&quot;: false, &quot;maxNativeZoom&quot;: 18, &quot;maxZoom&quot;: 18, &quot;minZoom&quot;: 0, &quot;noWrap&quot;: false, &quot;opacity&quot;: 1, &quot;subdomains&quot;: &quot;abc&quot;, &quot;tms&quot;: false}\n",
       "            ).addTo(map_7f77716771279c34e0d64a81b8c6d9cb);\n",
       "        \n",
       "    \n",
       "            var marker_cluster_7684e341e907b6dcbfab52d4992b90ed = L.markerClusterGroup(\n",
       "                {}\n",
       "            );\n",
       "            map_7f77716771279c34e0d64a81b8c6d9cb.addLayer(marker_cluster_7684e341e907b6dcbfab52d4992b90ed);\n",
       "        \n",
       "    \n",
       "            var marker_f18bf2e7364cd71a727c432bd3821507 = L.marker(\n",
       "                [48.14707, 17.109592],\n",
       "                {}\n",
       "            ).addTo(marker_cluster_7684e341e907b6dcbfab52d4992b90ed);\n",
       "        \n",
       "    \n",
       "        var popup_cc08ca2414ae748de8cbbef7e72150fd = L.popup({&quot;maxWidth&quot;: &quot;100%&quot;});\n",
       "\n",
       "        \n",
       "            \n",
       "                var html_67720ff1c394d22a76378a0f39b348b3 = $(`&lt;div id=&quot;html_67720ff1c394d22a76378a0f39b348b3&quot; style=&quot;width: 100.0%; height: 100.0%;&quot;&gt;                 &lt;div style=&quot;width: 150px;&quot;&gt;                     Date: 24.10.2022&lt;br&gt;                     Time: 16:52:50 - 16:52:53&lt;br&gt;                     Line: 9031&lt;br&gt;                     Vehicle: 7414&lt;br&gt;                     Points: 17&lt;br&gt;                     Speed: 20.9 - 0.0&lt;br&gt;                     Diff: 20.9&lt;br&gt;                 &lt;/div&gt;                 &lt;/div&gt;`)[0];\n",
       "                popup_cc08ca2414ae748de8cbbef7e72150fd.setContent(html_67720ff1c394d22a76378a0f39b348b3);\n",
       "            \n",
       "        \n",
       "\n",
       "        marker_f18bf2e7364cd71a727c432bd3821507.bindPopup(popup_cc08ca2414ae748de8cbbef7e72150fd)\n",
       "        ;\n",
       "\n",
       "        \n",
       "    \n",
       "    \n",
       "            var heat_map_a55650d46c2b3dd22ec104ee7dfd0d6f = L.heatLayer(\n",
       "                [[48.14707, 17.109592], [48.14707, 17.109592], [48.14707, 17.109592], [48.14707, 17.109592], [48.14707, 17.109592], [48.14707, 17.109592], [48.14707, 17.109592], [48.14707, 17.109592], [48.14707, 17.109592], [48.14707, 17.109592], [48.14707, 17.109592], [48.14707, 17.109592], [48.14707, 17.109592], [48.14707, 17.109592], [48.14707, 17.109592], [48.14707, 17.109592], [48.14707, 17.109592]],\n",
       "                {&quot;blur&quot;: 15, &quot;maxZoom&quot;: 18, &quot;minOpacity&quot;: 0.5, &quot;radius&quot;: 25}\n",
       "            ).addTo(map_7f77716771279c34e0d64a81b8c6d9cb);\n",
       "        \n",
       "    \n",
       "            var circle_f5a5706bbb0b4df465bf3c978d59beba = L.circle(\n",
       "                [48.179637, 17.162346],\n",
       "                {&quot;bubblingMouseEvents&quot;: true, &quot;color&quot;: &quot;transparent&quot;, &quot;dashArray&quot;: null, &quot;dashOffset&quot;: null, &quot;fill&quot;: true, &quot;fillColor&quot;: &quot;red&quot;, &quot;fillOpacity&quot;: 0.2, &quot;fillRule&quot;: &quot;evenodd&quot;, &quot;lineCap&quot;: &quot;round&quot;, &quot;lineJoin&quot;: &quot;round&quot;, &quot;opacity&quot;: 1.0, &quot;radius&quot;: 250, &quot;stroke&quot;: true, &quot;weight&quot;: 3}\n",
       "            ).addTo(map_7f77716771279c34e0d64a81b8c6d9cb);\n",
       "        \n",
       "    \n",
       "            map_7f77716771279c34e0d64a81b8c6d9cb.fitBounds(\n",
       "                [[48.14707, 17.109592], [48.179637, 17.162346]],\n",
       "                {}\n",
       "            );\n",
       "        \n",
       "&lt;/script&gt;\n",
       "&lt;/html&gt;\" style=\"position:absolute;width:100%;height:100%;left:0;top:0;border:none !important;\" allowfullscreen webkitallowfullscreen mozallowfullscreen></iframe></div></div>"
      ],
      "text/plain": [
       "<folium.folium.Map at 0x144e3bb90>"
      ]
     },
     "execution_count": 4,
     "metadata": {},
     "output_type": "execute_result"
    }
   ],
   "source": [
    "m = TMap()\n",
    "\n",
    "# plot into map\n",
    "if T_Map_events:\n",
    "    m.add_events(events, T_Depo)\n",
    "else:\n",
    "    m.add_data(data)\n",
    "\n",
    "m.save()\n",
    "\n",
    "print(m.n)\n",
    "m.m"
   ]
  },
  {
   "cell_type": "code",
   "execution_count": 5,
   "id": "8f88fb35-52b8-480d-b84e-3212c79d847b",
   "metadata": {
    "tags": []
   },
   "outputs": [],
   "source": [
    "# co dalej?\n",
    "#\n",
    "# asi by sa hodilo, aby sme vedeli odlisit tie miesta brzdenia, ktore su naozaj na tom mieste na ktorom sa stali, nie na doplnenom\n",
    "# Folium plugin HeatMapWithTime ?\n",
    "# skusit polohu brzdeni interpolovat a nie len doplnovat? - stale nevyriesi problem ze su tie brzdenia vsade\n",
    "#"
   ]
  }
 ],
 "metadata": {
  "kernelspec": {
   "display_name": "Python 3 (ipykernel)",
   "language": "python",
   "name": "python3"
  },
  "language_info": {
   "codemirror_mode": {
    "name": "ipython",
    "version": 3
   },
   "file_extension": ".py",
   "mimetype": "text/x-python",
   "name": "python",
   "nbconvert_exporter": "python",
   "pygments_lexer": "ipython3",
   "version": "3.11.5"
  }
 },
 "nbformat": 4,
 "nbformat_minor": 5
}
